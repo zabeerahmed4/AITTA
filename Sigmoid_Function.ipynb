{
  "nbformat": 4,
  "nbformat_minor": 0,
  "metadata": {
    "colab": {
      "name": "Sigmoid_Function.ipynb",
      "provenance": [],
      "authorship_tag": "ABX9TyPjmqmqMsh7PF3cdOzS6sTi",
      "include_colab_link": true
    },
    "kernelspec": {
      "name": "python3",
      "display_name": "Python 3"
    }
  },
  "cells": [
    {
      "cell_type": "markdown",
      "metadata": {
        "id": "view-in-github",
        "colab_type": "text"
      },
      "source": [
        "<a href=\"https://colab.research.google.com/github/zabeerahmed4/AITTA/blob/main/Sigmoid_Function.ipynb\" target=\"_parent\"><img src=\"https://colab.research.google.com/assets/colab-badge.svg\" alt=\"Open In Colab\"/></a>"
      ]
    },
    {
      "cell_type": "code",
      "metadata": {
        "colab": {
          "base_uri": "https://localhost:8080/",
          "height": 279
        },
        "id": "40Zm3IwLXECB",
        "outputId": "e9893420-4d5d-4c0c-b8bb-647d3d7f76b8"
      },
      "source": [
        "# Sigmoid Function or Logistic Function Characteristic\r\n",
        "\r\n",
        "import matplotlib.pyplot as plt\r\n",
        "import numpy as np\r\n",
        "\r\n",
        "x = np.linspace(-5,+5,200)\r\n",
        "y = 1 / (1 + np.exp(-x))\r\n",
        "\r\n",
        "plt.plot(40+x, y)\r\n",
        "plt.xlabel('size of tumour')\r\n",
        "plt.ylabel('malignant or benign')\r\n",
        "plt.show()\r\n"
      ],
      "execution_count": 3,
      "outputs": [
        {
          "output_type": "display_data",
          "data": {
            "image/png": "[encoded data removed]",
            "text/plain": [
              "<Figure size 432x288 with 1 Axes>"
            ]
          },
          "metadata": {
            "tags": [],
            "needs_background": "light"
          }
        }
      ]
    },
    {
      "cell_type": "code",
      "metadata": {
        "id": "885g4AAle4hX"
      },
      "source": [
        ""
      ],
      "execution_count": null,
      "outputs": []
    },
    {
      "cell_type": "code",
      "metadata": {
        "id": "65AZG45we45O"
      },
      "source": [
        ""
      ],
      "execution_count": null,
      "outputs": []
    },
    {
      "cell_type": "code",
      "metadata": {
        "id": "bjL3Q0OtdLrB"
      },
      "source": [
        ""
      ],
      "execution_count": null,
      "outputs": []
    }
  ]
}